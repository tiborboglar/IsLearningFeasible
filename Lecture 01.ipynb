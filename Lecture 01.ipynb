{
 "cells": [
  {
   "cell_type": "code",
   "execution_count": 441,
   "metadata": {
    "collapsed": true
   },
   "outputs": [],
   "source": [
    "import pandas as pd\n",
    "import numpy as np\n",
    "import matplotlib.pyplot as plt\n",
    "%matplotlib inline"
   ]
  },
  {
   "cell_type": "markdown",
   "metadata": {},
   "source": [
    "### <center>Problema do Aprendizado utilizando Perceptron<center>"
   ]
  },
  {
   "cell_type": "markdown",
   "metadata": {},
   "source": [
    "Dado um problema de aprendizado, nosso objetivo é encontrar uma função $g:X\\rightarrow Y$ que se aproxime da função $f:X\\rightarrow Y$, onde $f$ se trata da função exata de nosso problema. \n",
    "\n",
    "O problema estará resolvido se $g \\approx f$.\n",
    "\n",
    "Tomamos $X$ como o conjunto dos Inputs e $Y$ é o conjunto dos Outputs.\n",
    "\n",
    "Para chegarmos na função $g$ usamos uma função linear chamada hipótese $h$ que nos auxilia no aprendizado, onde $h \\in \\mathbb{H}$, tal que $\\mathbb{H}$ é o conjunto das funções hipóteses.\n",
    "\n",
    "Supondo o problema de aprovação de crédito, onde\n",
    "\n",
    "$$\\vec{x}=(x_1, x_2, ..., x_d) \\qquad \\text{x$_i$ é um atributo do cliente}$$\n",
    "\n",
    "$$y \\in \\{1,-1\\} \\qquad \\text{se y=1} \\implies \\text{aprovado, se y= -1} \\implies \\text{reprovado}  $$\n",
    "\n",
    "Queremos saber se aprovamos seu crédito, para isso tomamos\n",
    "\n",
    "$$\\text{Aprovado se } \\sum_{i=1}^{d}w_ix_i \\geq \\text{threshold}$$ \n",
    "\n",
    "$$\\text{Reprovado se } \\sum_{i=1}^{d}w_ix_i < \\text{threshold}$$ \n",
    "\n",
    "\n",
    "Tomando $w_0 = $ threshold e chamando $x_0 = 1$, podemos escrever\n",
    "\n",
    "$$h(\\vec{x_n}) = \\text{sinal}\\left( \\sum_{i=0}^{d} w_ix_i \\right)=\\text{sinal}(\\vec{w}\\cdot\\vec{x_n})=\\textbf{w}^\\textbf{T}\\textbf{x$_n$}$$\n",
    "\n",
    "### <center> Aprendizado <center>\n",
    "\n",
    "Supondo que temos $n$ dados em mãos, do tipo\n",
    "\n",
    "$$(\\vec{x_1}, y_1), (\\vec{x_2}, y_2), ..., (\\vec{x_n}, y_n)$$\n",
    "\n",
    "Supondo que $y_n=1$ mas tivemos que $h(\\vec{x_n})=-1$, então precisamos fazer a correção, para isso, atualizamos nosso peso $\\vec{w}$, fazendo \n",
    "\n",
    "$$\\vec{w} := \\vec{w} + y_n \\vec{x_n}$$"
   ]
  },
  {
   "cell_type": "code",
   "execution_count": 442,
   "metadata": {
    "collapsed": true
   },
   "outputs": [],
   "source": [
    "def random_line():\n",
    "    x = np.random.uniform(-1, 1, 2)\n",
    "    y = np.random.uniform(-1, 1, 2)\n",
    "    a = (y[1] - y[0])/(x[1] - x[0])\n",
    "    b = y[0]\n",
    "    return a, b\n",
    "\n",
    "a, b  = (random_line()[0], random_line()[1])"
   ]
  },
  {
   "cell_type": "code",
   "execution_count": 443,
   "metadata": {},
   "outputs": [
    {
     "data": {
      "text/plain": [
       "(-0.25674637228194386, -0.96004651628059023)"
      ]
     },
     "execution_count": 443,
     "metadata": {},
     "output_type": "execute_result"
    }
   ],
   "source": [
    "a,b"
   ]
  },
  {
   "cell_type": "code",
   "execution_count": 444,
   "metadata": {
    "collapsed": true
   },
   "outputs": [],
   "source": [
    "# Definindo o plano e plotando dois pontos da reta na extremidade de seu intervalo\n",
    "x = [-1,1]\n",
    "y = [a*x[0] + b, a*x[1] + b]"
   ]
  },
  {
   "cell_type": "code",
   "execution_count": 445,
   "metadata": {},
   "outputs": [
    {
     "name": "stdout",
     "output_type": "stream",
     "text": [
      "Minha reta é dada por f(x) = -0.256746372282x + -0.960046516281\n"
     ]
    },
    {
     "data": {
      "image/png": "[encoded data removed]",
      "text/plain": [
       "<matplotlib.figure.Figure at 0x7fc045b022e8>"
      ]
     },
     "metadata": {},
     "output_type": "display_data"
    }
   ],
   "source": [
    "# Criando o plano com a reta que separa os valores que serão mapeados para +1 ou -1\n",
    "plt.figure(figsize=(15,5))\n",
    "plt.xlim(-1,1)\n",
    "plt.ylim(-1,1)\n",
    "plt.grid()\n",
    "plt.plot(x, y)\n",
    "\n",
    "# Criando vetores x0, x1, x2 de tamanho n, pois representam um número n de pontos\n",
    "# Um vetor x é dado por x = [x0, x1, x2]\n",
    "n = 100\n",
    "x0 = [1 for i in range (0, n)]\n",
    "x1, x2 = (np.random.uniform(-1, 1, n), np.random.uniform(-1, 1, n))\n",
    "plt.plot(x1, x2, 'go')\n",
    "store1, store2 = (x1,x2)\n",
    "\n",
    "plt.fill_between(x, [1,1], y, color='r',alpha=.2)\n",
    "plt.fill_between(x, [-1,-1], y, color='g',alpha=.2)\n",
    "\n",
    "plt.title('Linha gerada aleatoriamente')\n",
    "print('Minha reta é dada por f(x) = ' + str(a) + 'x + ' + str(b))\n",
    "plt.show()"
   ]
  },
  {
   "cell_type": "markdown",
   "metadata": {
    "collapsed": true
   },
   "source": [
    "### Meu objetivo é encontrar uma função h(x) que irá se aproximar da função f(x)\n",
    "\n",
    "Os pontos que estão acima da reta são pontos que valem 1 e os pontos abaixo valem -1."
   ]
  },
  {
   "cell_type": "code",
   "execution_count": 446,
   "metadata": {},
   "outputs": [],
   "source": [
    "weights = np.zeros(3)\n",
    "# Função hipótese\n",
    "def h(w, x):\n",
    "    res = 0\n",
    "    for i in range (0, len(x)):\n",
    "        res = res + w[i]*x[i]\n",
    "    return np.sign(res)"
   ]
  },
  {
   "cell_type": "code",
   "execution_count": 447,
   "metadata": {},
   "outputs": [
    {
     "data": {
      "text/plain": [
       "1"
      ]
     },
     "execution_count": 447,
     "metadata": {},
     "output_type": "execute_result"
    }
   ],
   "source": [
    "# Essa função irá receber x = [x0 x1 x2], onde x0 = 1 e x1 e x2 representam os eixos (x, y)\n",
    "# Se estiver na área azul => devolve =1\n",
    "# Se estiver na área vermelha => devolve -1\n",
    "def y (x, a, b):\n",
    "    val = 0\n",
    "    if x[2] > a*x[1] + b:\n",
    "        val = 1\n",
    "    else:\n",
    "        val = -1\n",
    "    return val\n",
    "x = [1, 0, 1]\n",
    "y(x, a, b)"
   ]
  },
  {
   "cell_type": "code",
   "execution_count": 448,
   "metadata": {},
   "outputs": [],
   "source": [
    "# Percepetron rodando 100 vezes\n",
    "for j in range (0, 1000):\n",
    "    for i in range (0, n):\n",
    "        x = [x0[i], x1[i], x2[i]]\n",
    "        if (h(weights, x) != y(x, a, b)):\n",
    "            weights += np.multiply(y(x,a,b), x)"
   ]
  },
  {
   "cell_type": "code",
   "execution_count": 449,
   "metadata": {},
   "outputs": [],
   "source": [
    "# Para descobrir onde um ponto irá ficar basta aplicar "
   ]
  },
  {
   "cell_type": "code",
   "execution_count": 450,
   "metadata": {
    "collapsed": true
   },
   "outputs": [],
   "source": [
    "def perceptron(val):\n",
    "    w = ''\n",
    "    if (val == -1):\n",
    "        w = 'Azul'\n",
    "    else:\n",
    "        w = 'Vermelho'\n",
    "    return w"
   ]
  },
  {
   "cell_type": "code",
   "execution_count": 451,
   "metadata": {},
   "outputs": [
    {
     "name": "stdout",
     "output_type": "stream",
     "text": [
      "Ponto: (0.5, -0.9) Vermelho\n",
      "Ponto: (-0.25, 0.5) Vermelho\n",
      "Ponto: (-0.8, 0.7) Vermelho\n",
      "Ponto: (0.8, -0.3) Vermelho\n",
      "Ponto: (-0.8, -0.4) Vermelho\n"
     ]
    }
   ],
   "source": [
    "# Testando meu perceptron\n",
    "#-- Dado dois pontos x1 e x2, tal que: x1 = (0.5, -0.9) e x2 = (-0.25, 0.5)\n",
    "x1 = [1, 0.5, -0.9]\n",
    "x2 = [1, -0.25, 0.5]\n",
    "x3 = [1, -.8, .7]\n",
    "x4 = [1, .8, -.3]\n",
    "x5 = [1, -.8, -.4]\n",
    "x6 = [1, .8, .47]\n",
    "print('Ponto:', (x1[1], x1[2]), perceptron(h(weights, x1)))\n",
    "print('Ponto:', (x2[1], x2[2]), perceptron(h(weights, x2)))\n",
    "print('Ponto:', (x3[1], x3[2]), perceptron(h(weights, x3)))\n",
    "print('Ponto:', (x4[1], x4[2]), perceptron(h(weights, x4)))\n",
    "print('Ponto:', (x5[1], x5[2]), perceptron(h(weights, x5)))"
   ]
  },
  {
   "cell_type": "code",
   "execution_count": 452,
   "metadata": {},
   "outputs": [
    {
     "name": "stdout",
     "output_type": "stream",
     "text": [
      "Minha reta é dada por f(x) = -0.256746372282x + -0.960046516281\n"
     ]
    },
    {
     "data": {
      "image/png": "[encoded data removed]",
      "text/plain": [
       "<matplotlib.figure.Figure at 0x7fc0458bcef0>"
      ]
     },
     "metadata": {},
     "output_type": "display_data"
    }
   ],
   "source": [
    "# Criando o plano com a reta que separa os valores que serão mapeados para +1 ou -1\n",
    "x = [-1,1]\n",
    "y = [a*x[0] + b, a*x[1] + b]\n",
    "plt.figure(figsize=(15,5))\n",
    "plt.xlim(-1,1)\n",
    "plt.ylim(-1,1)\n",
    "plt.grid()\n",
    "plt.plot(x, y)\n",
    "\n",
    "#plt.plot(store1, store2, 'go')\n",
    "\n",
    "plt.fill_between(x, [1,1], y, color='r',alpha=.2)\n",
    "plt.fill_between(x, [-1,-1], y, color='g',alpha=.2)\n",
    "\n",
    "plt.plot([x1[1], x2[1], x3[1], x4[1], x5[1]], \n",
    "         [x1[2], x2[2], x3[2], x4[2], x5[2]], \n",
    "         'ko')\n",
    "\n",
    "plt.title('Linha gerada aleatoriamente')\n",
    "print('Minha reta é dada por f(x) = ' + str(a) + 'x + ' + str(b))\n",
    "plt.show()"
   ]
  },
  {
   "cell_type": "code",
   "execution_count": null,
   "metadata": {
    "collapsed": true
   },
   "outputs": [],
   "source": []
  },
  {
   "cell_type": "code",
   "execution_count": null,
   "metadata": {
    "collapsed": true
   },
   "outputs": [],
   "source": []
  },
  {
   "cell_type": "code",
   "execution_count": null,
   "metadata": {
    "collapsed": true
   },
   "outputs": [],
   "source": []
  },
  {
   "cell_type": "code",
   "execution_count": null,
   "metadata": {
    "collapsed": true
   },
   "outputs": [],
   "source": []
  },
  {
   "cell_type": "code",
   "execution_count": null,
   "metadata": {
    "collapsed": true
   },
   "outputs": [],
   "source": []
  }
 ],
 "metadata": {
  "kernelspec": {
   "display_name": "Python 3",
   "language": "python",
   "name": "python3"
  },
  "language_info": {
   "codemirror_mode": {
    "name": "ipython",
    "version": 3
   },
   "file_extension": ".py",
   "mimetype": "text/x-python",
   "name": "python",
   "nbconvert_exporter": "python",
   "pygments_lexer": "ipython3",
   "version": "3.6.2"
  }
 },
 "nbformat": 4,
 "nbformat_minor": 2
}

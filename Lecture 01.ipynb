{
 "cells": [
  {
   "cell_type": "code",
   "execution_count": 1,
   "metadata": {
    "collapsed": true
   },
   "outputs": [],
   "source": [
    "import pandas as pd\n",
    "import numpy as np\n",
    "import matplotlib.pyplot as plt\n",
    "%matplotlib inline"
   ]
  },
  {
   "cell_type": "markdown",
   "metadata": {},
   "source": [
    "### <center>Problema do Aprendizado utilizando Perceptron<center>\n",
    "### <align=right>Tibor Zequini Boglár</align>"
   ]
  },
  {
   "cell_type": "markdown",
   "metadata": {},
   "source": [
    "Dado um problema de aprendizado, nosso objetivo é encontrar uma função $g:X\\rightarrow Y$ que se aproxime da função $f:X\\rightarrow Y$, onde $f$ se trata da função exata de nosso problema. \n",
    "\n",
    "O problema estará resolvido se $g \\approx f$.\n",
    "\n",
    "Tomamos $X$ como o conjunto dos Inputs e $Y$ é o conjunto dos Outputs.\n",
    "\n",
    "Para chegarmos na função $g$ usamos uma função linear chamada hipótese $h$ que nos auxilia no aprendizado, onde $h \\in \\mathbb{H}$, tal que $\\mathbb{H}$ é o conjunto das funções hipóteses.\n",
    "\n",
    "Supondo o problema de aprovação de crédito, onde\n",
    "\n",
    "$$\\vec{x}=(x_1, x_2, ..., x_d) \\qquad \\text{x$_i$ é um atributo do cliente}$$\n",
    "\n",
    "$$y \\in \\{1,-1\\} \\qquad \\text{se y=1} \\implies \\text{aprovado, se y= -1} \\implies \\text{reprovado}  $$\n",
    "\n",
    "Queremos saber se aprovamos seu crédito, para isso tomamos\n",
    "\n",
    "$$\\text{Aprovado se } \\sum_{i=1}^{d}w_ix_i \\geq \\text{threshold}$$ \n",
    "\n",
    "$$\\text{Reprovado se } \\sum_{i=1}^{d}w_ix_i < \\text{threshold}$$ \n",
    "\n",
    "\n",
    "Tomando $w_0 = $ threshold e chamando $x_0 = 1$, podemos escrever\n",
    "\n",
    "$$h(\\vec{x_n}) = \\text{sinal}\\left( \\sum_{i=0}^{d} w_ix_i \\right)=\\text{sinal}(\\vec{w}\\cdot\\vec{x_n})=\\textbf{w}^\\textbf{T}\\textbf{x$_n$}$$\n",
    "\n",
    "### <center> Aprendizado <center>\n",
    "\n",
    "Supondo que temos $n$ dados em mãos, do tipo\n",
    "\n",
    "$$(\\vec{x_1}, y_1), (\\vec{x_2}, y_2), ..., (\\vec{x_n}, y_n)$$\n",
    "\n",
    "Supondo que $y_n=1$ mas tivemos que $h(\\vec{x_n})=-1$, então precisamos fazer a correção, para isso, atualizamos nosso peso $\\vec{w}$, fazendo \n",
    "\n",
    "$$\\vec{w} := \\vec{w} + y_n \\vec{x_n}$$"
   ]
  },
  {
   "cell_type": "code",
   "execution_count": 4,
   "metadata": {
    "collapsed": true
   },
   "outputs": [],
   "source": [
    "# Função que gera dois pontos aleatórios: (x1, y1), (x2,y2) \n",
    "# Gera-se a reta dada pela equação y = ax + b\n",
    "# Retorna os coeficientes a, b\n",
    "def random_line():\n",
    "    x = np.random.uniform(-1, 1, 2)\n",
    "    y = np.random.uniform(-1, 1, 2)\n",
    "    a = (y[1] - y[0])/(x[1] - x[0])\n",
    "    b = y[0]\n",
    "    return a, b\n",
    "\n",
    "a, b  = (random_line()[0], random_line()[1])"
   ]
  },
  {
   "cell_type": "code",
   "execution_count": 5,
   "metadata": {},
   "outputs": [
    {
     "data": {
      "text/plain": [
       "(0.11227335732038531, -0.60701798052505551)"
      ]
     },
     "execution_count": 5,
     "metadata": {},
     "output_type": "execute_result"
    }
   ],
   "source": [
    "a,b"
   ]
  },
  {
   "cell_type": "code",
   "execution_count": 7,
   "metadata": {},
   "outputs": [
    {
     "name": "stdout",
     "output_type": "stream",
     "text": [
      "A função da reta é dada por f(x) = 0.11227335732x + -0.607017980525\n"
     ]
    },
    {
     "data": {
      "image/png": "[encoded data removed]",
      "text/plain": [
       "<matplotlib.figure.Figure at 0x7f8e19a49a90>"
      ]
     },
     "metadata": {},
     "output_type": "display_data"
    }
   ],
   "source": [
    "# Criando os dados que desenharão o plano e a reta\n",
    "x = [-1,1]\n",
    "y = [a*x[0] + b, a*x[1] + b]\n",
    "\n",
    "# Criando o plano com a reta, separando os valores que serão mapeados para +1 ou -1\n",
    "plt.figure(figsize=(15,5))\n",
    "plt.xlim(-1,1)\n",
    "plt.ylim(-1,1)\n",
    "plt.grid()\n",
    "plt.plot(x, y)\n",
    "\n",
    "# Criando as listas x0, x1, x2 de tamanho n, onde n é o número de pontos a serem plotados.\n",
    "# Um input x, isto é, um vetor x será dado por x = [x0, x1, x2]\n",
    "n = 30\n",
    "x0 = [1 for i in range (0, n)]\n",
    "x1, x2 = (np.random.uniform(-1, 1, n), np.random.uniform(-1, 1, n))\n",
    "plt.plot(x1, x2, 'go')\n",
    "store1, store2 = (x1,x2)\n",
    "\n",
    "# Colorindo as áreas fora da linha\n",
    "plt.fill_between(x, [1,1], y, color='r',alpha=.2)\n",
    "plt.fill_between(x, [-1,-1], y, color='g',alpha=.2)\n",
    "\n",
    "print('A função da reta é dada por f(x) = ' + str(a) + 'x + ' + str(b))\n",
    "plt.show()"
   ]
  },
  {
   "cell_type": "markdown",
   "metadata": {
    "collapsed": true
   },
   "source": [
    "### Meu objetivo é encontrar uma função h(x) que irá se aproximar da função f(x)\n"
   ]
  },
  {
   "cell_type": "code",
   "execution_count": 8,
   "metadata": {
    "collapsed": true
   },
   "outputs": [],
   "source": [
    "# Inicializando o vetor w = [w0, w1, w2] como w = [0, 0, 0]\n",
    "weights = np.zeros(3)\n",
    "\n",
    "# Função hipótese, retornará 1 ou -1\n",
    "def h(w, x):\n",
    "    res = 0\n",
    "    for i in range (0, len(x)):\n",
    "        res = res + w[i]*x[i]\n",
    "    return np.sign(res)"
   ]
  },
  {
   "cell_type": "code",
   "execution_count": 10,
   "metadata": {},
   "outputs": [],
   "source": [
    "# Essa função irá receber x = [x0 x1 x2], onde x0 = 1 e (x1,x2) são pontos do plano.\n",
    "# Se estiver na área azul => devolve 1\n",
    "# Se estiver na área vermelha => devolve -1\n",
    "def y (x, a, b):\n",
    "    val = 0\n",
    "    if x[2] > a*x[1] + b:\n",
    "        val = 1\n",
    "    else:\n",
    "        val = -1\n",
    "    return val"
   ]
  },
  {
   "cell_type": "code",
   "execution_count": 11,
   "metadata": {
    "collapsed": true
   },
   "outputs": [],
   "source": [
    "# Percepetron rodando 100 vezes\n",
    "it = 1000\n",
    "for j in range (0, it):\n",
    "    for i in range (0, n):\n",
    "        x = [x0[i], x1[i], x2[i]]\n",
    "        if (h(weights, x) != y(x, a, b)):\n",
    "            weights += np.multiply(y(x,a,b), x)"
   ]
  },
  {
   "cell_type": "code",
   "execution_count": 12,
   "metadata": {
    "collapsed": true
   },
   "outputs": [],
   "source": [
    "# Se a função hipótese retornar 1, então ela discriminou o ponto como vermelho, do contrário, discriminou como azul.\n",
    "def classifier(val):\n",
    "    w = ''\n",
    "    if (val == -1):\n",
    "        w = 'Azul'\n",
    "    else:\n",
    "        w = 'Vermelho'\n",
    "    return w"
   ]
  },
  {
   "cell_type": "code",
   "execution_count": 13,
   "metadata": {},
   "outputs": [
    {
     "name": "stdout",
     "output_type": "stream",
     "text": [
      "Ponto: (0.5, -0.9) Azul\n",
      "Ponto: (-0.25, 0.5) Vermelho\n",
      "Ponto: (-0.8, 0.7) Vermelho\n",
      "Ponto: (0.8, -0.3) Vermelho\n",
      "Ponto: (-0.8, -0.4) Vermelho\n"
     ]
    }
   ],
   "source": [
    "# Testando meu perceptron\n",
    "#-- Dado os pontos x_i tal que x1 = (x_a, x_b)\n",
    "x1 = [1, 0.5, -0.9]\n",
    "x2 = [1, -0.25, 0.5]\n",
    "x3 = [1, -.8, .7]\n",
    "x4 = [1, .8, -.3]\n",
    "x5 = [1, -.8, -.4]\n",
    "x6 = [1, .8, .47]\n",
    "print('Ponto:', (x1[1], x1[2]), classifier(h(weights, x1)))\n",
    "print('Ponto:', (x2[1], x2[2]), classifier(h(weights, x2)))\n",
    "print('Ponto:', (x3[1], x3[2]), classifier(h(weights, x3)))\n",
    "print('Ponto:', (x4[1], x4[2]), classifier(h(weights, x4)))\n",
    "print('Ponto:', (x5[1], x5[2]), classifier(h(weights, x5)))"
   ]
  },
  {
   "cell_type": "code",
   "execution_count": 16,
   "metadata": {},
   "outputs": [
    {
     "data": {
      "image/png": "[encoded data removed]",
      "text/plain": [
       "<matplotlib.figure.Figure at 0x7f8e198a1f60>"
      ]
     },
     "metadata": {},
     "output_type": "display_data"
    }
   ],
   "source": [
    "# Plota a mesma coisa que o gráfico de cima\n",
    "x = [-1,1]\n",
    "y = [a*x[0] + b, a*x[1] + b]\n",
    "plt.figure(figsize=(15,5))\n",
    "plt.xlim(-1,1)\n",
    "plt.ylim(-1,1)\n",
    "plt.grid()\n",
    "plt.plot(x, y)\n",
    "plt.fill_between(x, [1,1], y, color='r',alpha=.2)\n",
    "plt.fill_between(x, [-1,-1], y, color='g',alpha=.2)\n",
    "\n",
    "# Plota os pontos que eu criei para testar para verificar no olho se o perceptron acerta ou erra\n",
    "plt.plot([x1[1], x2[1], x3[1], x4[1], x5[1]], \n",
    "         [x1[2], x2[2], x3[2], x4[2], x5[2]], \n",
    "         'ko')\n",
    "\n",
    "plt.show()"
   ]
  },
  {
   "cell_type": "markdown",
   "metadata": {},
   "source": [
    "Dava para automatizar os processos de verificação do perceptron e colocar uma métrica hit-or-miss? Dava, aber es ist das leben, oder, c'est la vie."
   ]
  }
 ],
 "metadata": {
  "kernelspec": {
   "display_name": "Python 3",
   "language": "python",
   "name": "python3"
  },
  "language_info": {
   "codemirror_mode": {
    "name": "ipython",
    "version": 3
   },
   "file_extension": ".py",
   "mimetype": "text/x-python",
   "name": "python",
   "nbconvert_exporter": "python",
   "pygments_lexer": "ipython3",
   "version": "3.6.2"
  }
 },
 "nbformat": 4,
 "nbformat_minor": 2
}

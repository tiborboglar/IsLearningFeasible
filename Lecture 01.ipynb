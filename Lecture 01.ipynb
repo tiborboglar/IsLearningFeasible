{
 "cells": [
  {
   "cell_type": "code",
   "execution_count": 210,
   "metadata": {
    "collapsed": true
   },
   "outputs": [],
   "source": [
    "import pandas as pd\n",
    "import numpy as np\n",
    "import matplotlib.pyplot as plt\n",
    "%matplotlib inline"
   ]
  },
  {
   "cell_type": "markdown",
   "metadata": {},
   "source": [
    "### <center>Problema do Aprendizado utilizando Perceptron<center>\n",
    "### <align=right>Tibor Zequini Boglár</align>"
   ]
  },
  {
   "cell_type": "markdown",
   "metadata": {},
   "source": [
    "Dado um problema de aprendizado, nosso objetivo é encontrar uma função $g:X\\rightarrow Y$ que se aproxime da função $f:X\\rightarrow Y$, onde $f$ se trata da função exata de nosso problema. \n",
    "\n",
    "O problema estará resolvido se $g \\approx f$.\n",
    "\n",
    "Tomamos $X$ como o conjunto dos Inputs e $Y$ é o conjunto dos Outputs.\n",
    "\n",
    "Para chegarmos na função $g$ usamos uma função linear chamada hipótese $h$ que nos auxilia no aprendizado, onde $h \\in \\mathbb{H}$, tal que $\\mathbb{H}$ é o conjunto das funções hipóteses.\n",
    "\n",
    "Supondo o problema de aprovação de crédito, onde\n",
    "\n",
    "$$\\vec{x}=(x_1, x_2, ..., x_d) \\qquad \\text{x$_i$ é um atributo do cliente}$$\n",
    "\n",
    "$$y \\in \\{1,-1\\} \\qquad \\text{se y=1} \\implies \\text{aprovado, se y= -1} \\implies \\text{reprovado}  $$\n",
    "\n",
    "Queremos saber se aprovamos seu crédito, para isso tomamos\n",
    "\n",
    "$$\\text{Aprovado se } \\sum_{i=1}^{d}w_ix_i \\geq \\text{threshold}$$ \n",
    "\n",
    "$$\\text{Reprovado se } \\sum_{i=1}^{d}w_ix_i < \\text{threshold}$$ \n",
    "\n",
    "\n",
    "Tomando $w_0 = $ threshold e chamando $x_0 = 1$, podemos escrever\n",
    "\n",
    "$$h(\\vec{x_n}) = \\text{sinal}\\left( \\sum_{i=0}^{d} w_ix_i \\right)=\\text{sinal}(\\vec{w}\\cdot\\vec{x_n})=\\pmb{w^T x_n}$$\n",
    "\n",
    "### <center> Aprendizado <center>\n",
    "\n",
    "Supondo que temos $n$ dados em mãos, do tipo\n",
    "\n",
    "$$(\\vec{x_1}, y_1), (\\vec{x_2}, y_2), ..., (\\vec{x_n}, y_n)$$\n",
    "\n",
    "Supondo que $y_n=1$ mas tivemos que $h(\\vec{x_n})=-1$, então precisamos fazer a correção, para isso, atualizamos nosso peso $\\vec{w}$, fazendo \n",
    "\n",
    "$$\\vec{w} := \\vec{w} + y_n \\vec{x_n}$$"
   ]
  },
  {
   "cell_type": "code",
   "execution_count": 219,
   "metadata": {},
   "outputs": [],
   "source": [
    "# Função hipótese, retornará 1 ou -1\n",
    "def h(w, x):\n",
    "    res = 0\n",
    "    for i in range (0, len(x)):\n",
    "        res = res + w[i]*x[i]\n",
    "    return np.sign(res)"
   ]
  },
  {
   "cell_type": "code",
   "execution_count": 220,
   "metadata": {},
   "outputs": [],
   "source": [
    "# X = [x1, x2, ..., xN], onde x1, x2, ... xN são os pontos, tq x1 = [1, x12,...,x1M]\n",
    "# Y = [y1, y2, ..., yN], são os valores da função naqueles pontos\n",
    "def perceptron(X, Y, w):\n",
    "    summ = 0\n",
    "    it = 0\n",
    "    while summ != len(X):\n",
    "        for i in range (0, len(X)):\n",
    "            if summ == len(X):\n",
    "                break\n",
    "            if h(w, X[i]) != Y[i]:\n",
    "                w = w + np.multiply(X[i], Y[i])\n",
    "                summ = 0\n",
    "            else:\n",
    "                summ += 1 \n",
    "            it+=1\n",
    "    return w"
   ]
  },
  {
   "cell_type": "markdown",
   "metadata": {},
   "source": [
    "### <center> Dada uma reta aleatória, uso o perceptron para classificar seus pontos </center>"
   ]
  },
  {
   "cell_type": "code",
   "execution_count": 221,
   "metadata": {},
   "outputs": [],
   "source": [
    "# Função que gera dois pontos aleatórios: (x1, y1), (x2,y2) \n",
    "# Gera-se a reta dada pela equação y = ax + b\n",
    "# Retorna os coeficientes a, b\n",
    "def random_line():\n",
    "    x = np.random.uniform(-1, 1, 2)\n",
    "    y = np.random.uniform(-1, 1, 2)\n",
    "    a = (y[1] - y[0])/(x[1] - x[0])\n",
    "    b = y[0]\n",
    "    return a, b\n",
    "\n",
    "a0, b0  = (random_line()[0], random_line()[1])"
   ]
  },
  {
   "cell_type": "code",
   "execution_count": 222,
   "metadata": {},
   "outputs": [
    {
     "data": {
      "text/plain": [
       "(18.920361622045572, -0.28684108529486796)"
      ]
     },
     "execution_count": 222,
     "metadata": {},
     "output_type": "execute_result"
    }
   ],
   "source": [
    "a0,b0"
   ]
  },
  {
   "cell_type": "code",
   "execution_count": 223,
   "metadata": {
    "collapsed": true
   },
   "outputs": [],
   "source": [
    "# Essa função irá receber X = [x0, x1, x2, ..., xN], onde x0 = (1, x01, x02)\n",
    "# Se estiver na área azul => devolve 1\n",
    "# Se estiver na área vermelha => devolve -1\n",
    "# O output é Y = [y0, y1, y2, ...., yN] onde yi = +- 1\n",
    "def func (X, a, b):\n",
    "    val = []\n",
    "    for i in range (0, len(X)):\n",
    "        if X[i][2] > a*X[i][1] + b:\n",
    "            val.append(1)\n",
    "        else:\n",
    "            val.append(-1)\n",
    "    return val"
   ]
  },
  {
   "cell_type": "code",
   "execution_count": 224,
   "metadata": {},
   "outputs": [
    {
     "data": {
      "image/png": "[encoded data removed]",
      "text/plain": [
       "<matplotlib.figure.Figure at 0x7f69c63c52e8>"
      ]
     },
     "metadata": {},
     "output_type": "display_data"
    }
   ],
   "source": [
    "# Criando os dados que desenharão o plano e a reta\n",
    "x = [-1,1]\n",
    "y = [a0*x[0] + b0, a0*x[1] + b0]\n",
    "\n",
    "# Criando o plano com a reta, separando os valores que serão mapeados para +1 ou -1\n",
    "plt.figure(figsize=(15,5))\n",
    "plt.xlim(-1,1)\n",
    "plt.ylim(-1,1)\n",
    "plt.grid()\n",
    "plt.plot(x, y)\n",
    "\n",
    "# Criando os pontos x1, x2, x3, ...., xN\n",
    "N = 10\n",
    "X = []\n",
    "for i in range (0, n):\n",
    "    xi = [1, np.random.uniform(-1, 1, 1)[0], np.random.uniform(-1, 1, 1)[0]]\n",
    "    X.append(xi)\n",
    "Y = func(X, a0, b0)\n",
    "\n",
    "x_values = [X[i][1] for i in range (0, len(X))]\n",
    "y_values = [X[i][2] for i in range (0, len(X))]\n",
    "plt.plot(x_values, y_values, 'go')\n",
    "\n",
    "# Colorindo as áreas fora da linha\n",
    "x_plot = [-1, 1]\n",
    "y_plot = [a0*x_plot[0] + b0, a0*x_plot[1] + b0]\n",
    "plt.fill_between(x_plot, [1,1], y_plot, color='r',alpha=.2)\n",
    "plt.fill_between(x_plot, [-1,-1], y_plot, color='g',alpha=.2)\n",
    "\n",
    "plt.show()"
   ]
  },
  {
   "cell_type": "markdown",
   "metadata": {
    "collapsed": true
   },
   "source": [
    "Meu objetivo é encontrar uma função h(x) que irá se aproximar da função f(x), então aplico o algoritmo do perceptron para esse problema e pegamos a reta hipótese fornecida pelos pesos $\\vec{w}$ dados pelo perceptron."
   ]
  },
  {
   "cell_type": "code",
   "execution_count": 225,
   "metadata": {},
   "outputs": [],
   "source": [
    "# Inicializando pesos aleatórios\n",
    "weights = np.random.uniform(0, 1, len(X[0]))\n",
    "\n",
    "# Pegando os pesos fornecidos pelo Perceptron\n",
    "w = perceptron(X, Y, weights)"
   ]
  },
  {
   "cell_type": "markdown",
   "metadata": {},
   "source": [
    "Com os pesos em mãos, podemos plotar a reta, que é dada por $w_0x_0 + w_1x_1 + w_2x_2=0$, \n",
    "\n",
    "mas $x_0 = 1$, logo temos $w_0 + w_1x_1 + w_2x_2=0$\n",
    "\n",
    "Isolando $x_2$ temos: $w_2x_2 = -w_1x_1 - w_0$\n",
    "\n",
    "$x_2 = \\frac{-w_1}{w_2}x_1 - \\frac{w_0}{w_2}$"
   ]
  },
  {
   "cell_type": "code",
   "execution_count": 226,
   "metadata": {},
   "outputs": [
    {
     "data": {
      "image/png": "[encoded data removed]",
      "text/plain": [
       "<matplotlib.figure.Figure at 0x7f69c62c78d0>"
      ]
     },
     "metadata": {},
     "output_type": "display_data"
    }
   ],
   "source": [
    "# Criando o plano com a reta, separando os valores que serão mapeados para +1 ou -1\n",
    "x = [-1,1]\n",
    "y = [a0*x[0] + b0, a0*x[1] + b0]\n",
    "\n",
    "plt.figure(figsize=(15,5))\n",
    "plt.xlim(-1,1)\n",
    "plt.ylim(-1,1)\n",
    "plt.grid()\n",
    "plt.plot(x, y)\n",
    "\n",
    "plt.plot(x_values, y_values, 'go')\n",
    "\n",
    "a = (-w[1]/w[2])\n",
    "b = (-w[0]/w[2])\n",
    "# Colorindo as áreas fora da linha\n",
    "x_plot = [-1, 1]\n",
    "y_plot = [a*x_plot[0] + b, a*x_plot[1] + b]\n",
    "plt.plot(x_plot, y_plot)\n",
    "plt.fill_between(x_plot, [1,1], y_plot, color='r',alpha=.2)\n",
    "plt.fill_between(x_plot, [-1,-1], y_plot, color='g',alpha=.2)\n",
    "\n",
    "plt.title('A reta em azul é a reta criada aleatoriamente, a reta laranja é a reta criada pelo Perceptron')\n",
    "plt.show()"
   ]
  },
  {
   "cell_type": "markdown",
   "metadata": {},
   "source": [
    "#### <center> Supondo o problema da porta OR </center>\n",
    "\n",
    "$$\\text{Seja o vetor } \\vec{x_i}= [x_0, x_1, x_2] \\text{ e o resultado da porta } y_i =  \\pm 1$$\n",
    "\n",
    "<center> O objetivo é achar os pesos que criam uma reta que separe todos os pontos usando o perceptron.</center>\n",
    "\n",
    "| Inputs $x_1, x_2$|| Output y  |\n",
    "|------------------||-----------|\n",
    "|   (0,0) || -1|\n",
    "|   (0,1)  || 1|\n",
    "|   (1,0)  || 1|\n",
    "|   (1,1)  || 1|\n",
    "\n",
    "\n",
    "<center> Inicia-se com o peso $\\vec{w} = [0.5, -1, 1]$</center>\n"
   ]
  },
  {
   "cell_type": "code",
   "execution_count": 227,
   "metadata": {},
   "outputs": [],
   "source": [
    "# Setando os Inputs iniciais\n",
    "x1 = [1, 0, 0]; \n",
    "x2 = [1, 1, 0]; \n",
    "x3 = [1, 0, 1]; \n",
    "x4 = [1, 1, 1]\n",
    "x = [x1, x2, x3, x4]\n",
    "\n",
    "# Setando meu output\n",
    "y1 = -1; \n",
    "y2 = y3 = y4 = 1\n",
    "y = [y1, y2, y3, y4]\n",
    "\n",
    "# Iniciando meu peso\n",
    "w = [0.5, -1, 1]"
   ]
  },
  {
   "cell_type": "code",
   "execution_count": 228,
   "metadata": {},
   "outputs": [],
   "source": [
    "# Pega o pesos finais fornecidos pelo perceptron.\n",
    "w = perceptron(x, y, w)"
   ]
  },
  {
   "cell_type": "markdown",
   "metadata": {},
   "source": [
    "Com os pesos em mãos, podemos plotar a reta, como anteriormente, a equação é dada por\n",
    "\n",
    "$$x_2 = \\frac{-w_1}{w_2}x_1 - \\frac{w_0}{w_2}$$"
   ]
  },
  {
   "cell_type": "code",
   "execution_count": 229,
   "metadata": {},
   "outputs": [
    {
     "data": {
      "image/png": "[encoded data removed]",
      "text/plain": [
       "<matplotlib.figure.Figure at 0x7f69c62c7ba8>"
      ]
     },
     "metadata": {},
     "output_type": "display_data"
    }
   ],
   "source": [
    "# Criando os dados que desenharão o plano e a reta\n",
    "a, b = ((-w[1]/w[2]), (-w[0]/w[2]))\n",
    "x = [-2,2]\n",
    "y = [a*x[0] + b, a*x[1] + b]\n",
    "\n",
    "# Criando o plano com a reta, separando os valores que serão mapeados para +1 ou -1\n",
    "plt.figure(figsize=(12,6))\n",
    "plt.xlim(-0.1,1.1)\n",
    "plt.ylim(-0.1,1.1)\n",
    "plt.grid()\n",
    "plt.plot(x, y)\n",
    "\n",
    "plt.plot([0, 0, 1, 1], [0, 1, 0, 1], 'ro')\n",
    "\n",
    "# Colorindo as áreas fora da linha\n",
    "plt.fill_between(x, [2,2], y, color='r',alpha=.2)\n",
    "plt.fill_between(x, [-2,-2], y, color='g',alpha=.2)\n",
    "plt.title('Perceptron: Porta OR')\n",
    "\n",
    "plt.show()"
   ]
  }
 ],
 "metadata": {
  "kernelspec": {
   "display_name": "Python 3",
   "language": "python",
   "name": "python3"
  },
  "language_info": {
   "codemirror_mode": {
    "name": "ipython",
    "version": 3
   },
   "file_extension": ".py",
   "mimetype": "text/x-python",
   "name": "python",
   "nbconvert_exporter": "python",
   "pygments_lexer": "ipython3",
   "version": "3.6.2"
  }
 },
 "nbformat": 4,
 "nbformat_minor": 2
}
